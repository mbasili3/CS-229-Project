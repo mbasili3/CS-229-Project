{
 "cells": [
  {
   "cell_type": "code",
   "execution_count": 1,
   "metadata": {},
   "outputs": [],
   "source": [
    "from selenium import webdriver\n",
    "from selenium.webdriver.common.keys import Keys\n",
    "from selenium.webdriver.support.ui import Select\n",
    "from selenium.webdriver.common.by import By\n",
    "from selenium.webdriver.support import expected_conditions as EC\n",
    "from selenium.webdriver.support.ui import WebDriverWait\n",
    "from selenium.common.exceptions import NoSuchElementException, UnexpectedAlertPresentException, ElementClickInterceptedException, StaleElementReferenceException\n",
    "import pandas as pd\n",
    "import glob\n",
    "import shutil\n",
    "import os"
   ]
  },
  {
   "cell_type": "code",
   "execution_count": 2,
   "metadata": {},
   "outputs": [],
   "source": [
    "ORIGINS = ['ABR', 'ABI', 'ADK', 'BQN', 'CAK', 'ABY', 'ALB', 'ABQ', 'AEX', 'ABE', 'APN', 'AMA', 'ANC', 'ANI', 'ATW', 'ACV', 'AVL', 'HTS', 'ASE', 'ATL', 'ACY', 'AGS', 'AUS', 'AUS', 'BFL', 'BWI', 'BGR', 'BRW', 'BTR', 'BPT', 'BLV', 'BLI', 'BJI', 'RDM', 'BET', 'BIL', 'BGM', 'BHM', 'BIS', 'BMI', 'BOI', 'BOS', 'BZN', 'BRD', 'BKG', 'TRI', 'BRO', 'BQK', 'BUF', 'IFP', 'BUR', 'BTV', 'BTM', 'CGI', 'CLD', 'CPR', 'CDC', 'CID', 'CMI', 'CHS', 'CRW', 'STT', 'CLT', 'CHO', 'CHA', 'CYS', 'MDW', 'ORD', 'CIC', 'STX', 'CVG', 'CKB', 'CLE', 'COD', 'CDB', 'CLL', 'COS', 'COU', 'CAE', 'CSG', 'CBM', 'GTR', 'CMH', 'LCK', 'CCR', 'USA', 'CDV', 'CRP', 'CEC', 'DAL', 'DFW', 'DAY', 'DAB', 'SCC', 'DEC', 'DRT', 'DEN', 'DSM', 'DET', 'DTW', 'DVL', 'DIK', 'DLG', 'DDC', 'DHN', 'DBQ', 'DLH', 'DRO', 'EGE', 'EAU', 'IPL', 'ELP', 'EKO', 'ELM', 'ERI', 'ESC', 'EUG', 'EVV', 'PAE', 'FAI', 'FAR', 'FMN', 'XNA', 'FAY', 'FLG', 'FNT', 'FLO', 'FNL', 'FLL', 'RSW', 'FSM', 'FWA', 'FAT', 'GNV', 'GCK', 'GCC', 'GCN', 'GFK', 'GRI', 'GJT', 'GRR', 'GTF', 'GRB', 'GSO', 'GLH', 'PGV', 'GSP', 'GUM', 'GPT', 'GUC', 'GST', 'HGR', 'CMX', 'HRL', 'MDT', 'BDL', 'PIB', 'HDN', 'HYS', 'HLN', 'HIB', 'HKY', 'ITO', 'HHH', 'HOB', 'HNL', 'MKK', 'EFD', 'IAH', 'HOU', 'HSV', 'HYA', 'IDA', 'IND', 'INL', 'IYK', 'IMT', 'ISP', 'ITH', 'JAC', 'JAN', 'JAX', 'OAJ', 'JMS', 'JLN', 'JNU', 'OGG', 'AZO', 'FCA', 'MKC', 'MCI', 'EAR', 'KTN', 'EYW', 'GRK', 'ILE', 'AKN', 'ISO', 'LMT', 'TYS', 'ADQ', 'KOA', 'ROR', 'OTZ', 'LSE', 'LFT', 'LCH', 'TVL', 'LNY', 'LAN', 'LAR', 'LRD', 'LAS', 'LBE', 'LAW', 'LWB', 'LWS', 'LEX', 'LBL', 'LIH', 'LNK', 'LIT', 'LGB', 'GGG', 'LAX', 'SDF', 'LBB', 'LYH', 'MCN', 'MSN', 'MMH', 'MHT', 'MHK', 'MTH', 'MQT', 'MVY', 'MAZ', 'MFR', 'MLB', 'MEM', 'MEI', 'MIA', 'MAF', 'MKE', 'MSP', 'MIB', 'MOT', 'MFE', 'MSO', 'CNY', 'BFM', 'MOB', 'MOD', 'MLI', 'MLU', 'MRY', 'MGM', 'MTJ', 'MWH', 'CWA', 'MKG', 'MYR', 'ACK', 'APF', 'BNA', 'EWN', 'HVN', 'MSY', 'JFK', 'LGA', 'EWR', 'SWF', 'PHF', 'IAG', 'OME', 'ORF', 'OTH', 'LBF', 'OAK', 'OGD', 'OGS', 'OKC', 'OMA', 'ONT', 'MCO', 'OWB', 'OXR', 'PAH', 'PPG', 'PSP', 'PMD', 'PFN', 'ECP', 'PSC', 'PLN', 'PNS', 'PIA', 'PSG', 'PHL', 'AZA', 'PHX', 'PIR', 'SOP', 'PIT', 'PBG', 'PIH', 'PSE', 'PWM', 'PDX', 'PSM', 'PRC', 'PVD', 'PVU', 'PUB', 'PGD', 'UIN', 'RDU', 'RCA', 'RAP', 'RDR', 'RDD', 'RNO', 'RHI', 'RIC', 'RIW', 'ROA', 'RST', 'ROC', 'RKS', 'RFD', 'ROW', 'ROP', 'SMF', 'MBS', 'SPN', 'SLE', 'SLN', 'SLC', 'SJT', 'SAT', 'SAN', 'SFO', 'SJC', 'SJU', 'SBP', 'SFB', 'SNA', 'SBA', 'SAF', 'SMX', 'STS', 'SRQ', 'CIU', 'SAV', 'BFF', 'AVP', 'BFI', 'SEA', 'SHR', 'SHV', 'SUX', 'FSD', 'SIT', 'SBN', 'SKA', 'GEG', 'SPI', 'SGF', 'UST', 'STC', 'SGU', 'STL', 'KSM', 'PIE', 'SCE', 'SHD', 'SWO', 'SCK', 'SUN', 'SYR', 'TLH', 'TPA', 'TEX', 'TXK', 'TKI', 'TOL', 'FOE', 'TVC', 'TTN', 'TUS', 'TUL', 'UTM', 'TUP', 'TWF', 'TYR', 'DUT', 'UCA', 'VLD', 'VPS', 'VEL', 'VCT', 'VIS', 'ACT', 'DCA', 'IAD', 'ALO', 'ART', 'ATY', 'ENV', 'PBI', 'WYS', 'HPN', 'SPS', 'ICT', 'ISN', 'XWA', 'ILG', 'ILM', 'ORH', 'WRG', 'YKM', 'YAK', 'YAP', 'YNG', 'YUM']\n",
    "AIRLINE_CODES = ['TZ', 'FL', 'AS', 'G4', 'AQ', 'H|P', 'AA', 'MQ', 'DH', 'EV', 'OH (1)', 'CO', 'DL', '9E', 'MQ', 'EV', 'XE', 'EV', 'F9', 'HA', 'DH', 'B6', 'YV', 'NW', 'OH', '9E', 'YX', 'OO', 'WN', 'NK', 'US', 'UA', 'VX']\n",
    "MONTHS = ['1', '2', '3', '4', '5', '6', '7', '8', '9', '10', '11', '12']\n",
    "YEARS = ['1987', '1988', '1989', '1990', '1991', '1992', '1993', '1994', '1995', '1996', '1997', '1998', '1999', '2000', '2001', '2002', '2003', '2004', '2005', '2006', '2007', '2008', '2009', '2010', '2011', '2012', '2013', '2014', '2015', '2016', '2017', '2018', '2019', '2020']"
   ]
  },
  {
   "cell_type": "code",
   "execution_count": 3,
   "metadata": {},
   "outputs": [],
   "source": [
    "statistics_xpath = '/html/body/form/table[1]/tbody/tr[1]/td/input'\n",
    "departures_url = 'https://www.transtats.bts.gov/ONTIME/Departures.aspx'\n",
    "origin_id = 'cboAirport'\n",
    "airline_id = 'cboAirline'\n",
    "month_xpath = '/html/body/form/table[2]/tbody/tr[1]/td'\n",
    "year_xpath = '/html/body/form/table[2]/tbody/tr[3]/td'"
   ]
  },
  {
   "cell_type": "code",
   "execution_count": 73,
   "metadata": {},
   "outputs": [
    {
     "name": "stdout",
     "output_type": "stream",
     "text": [
      "['ABR', 'ABI', 'ADK', 'BQN', 'CAK', 'ABY', 'ALB', 'ABQ', 'AEX', 'ABE', 'APN', 'AMA', 'ANC', 'ANI', 'ATW', 'ACV', 'AVL', 'HTS', 'ASE', 'ATL', 'ACY', 'AGS', 'AUS', 'AUS', 'BFL', 'BWI', 'BGR', 'BRW', 'BTR', 'BPT', 'BLV', 'BLI', 'BJI', 'RDM', 'BET', 'BIL', 'BGM', 'BHM', 'BIS', 'BMI', 'BOI', 'BOS', 'BZN', 'BRD', 'BKG', 'TRI', 'BRO', 'BQK', 'BUF', 'IFP', 'BUR', 'BTV', 'BTM', 'CGI', 'CLD', 'CPR', 'CDC', 'CID', 'CMI', 'CHS', 'CRW', 'STT', 'CLT', 'CHO', 'CHA', 'CYS', 'MDW', 'ORD', 'CIC', 'STX', 'CVG', 'CKB', 'CLE', 'COD', 'CDB', 'CLL', 'COS', 'COU', 'CAE', 'CSG', 'CBM', 'GTR', 'CMH', 'LCK', 'CCR', 'USA', 'CDV', 'CRP', 'CEC', 'DAL', 'DFW', 'DAY', 'DAB', 'SCC', 'DEC', 'DRT', 'DEN', 'DSM', 'DET', 'DTW', 'DVL', 'DIK', 'DLG', 'DDC', 'DHN', 'DBQ', 'DLH', 'DRO', 'EGE', 'EAU', 'IPL', 'ELP', 'EKO', 'ELM', 'ERI', 'ESC', 'EUG', 'EVV', 'PAE', 'FAI', 'FAR', 'FMN', 'XNA', 'FAY', 'FLG', 'FNT', 'FLO', 'FNL', 'FLL', 'RSW', 'FSM', 'FWA', 'FAT', 'GNV', 'GCK', 'GCC', 'GCN', 'GFK', 'GRI', 'GJT', 'GRR', 'GTF', 'GRB', 'GSO', 'GLH', 'PGV', 'GSP', 'GUM', 'GPT', 'GUC', 'GST', 'HGR', 'CMX', 'HRL', 'MDT', 'BDL', 'PIB', 'HDN', 'HYS', 'HLN', 'HIB', 'HKY', 'ITO', 'HHH', 'HOB', 'HNL', 'MKK', 'EFD', 'IAH', 'HOU', 'HSV', 'HYA', 'IDA', 'IND', 'INL', 'IYK', 'IMT', 'ISP', 'ITH', 'JAC', 'JAN', 'JAX', 'OAJ', 'JMS', 'JLN', 'JNU', 'OGG', 'AZO', 'FCA', 'MKC', 'MCI', 'EAR', 'KTN', 'EYW', 'GRK', 'ILE', 'AKN', 'ISO', 'LMT', 'TYS', 'ADQ', 'KOA', 'ROR', 'OTZ', 'LSE', 'LFT', 'LCH', 'TVL', 'LNY', 'LAN', 'LAR', 'LRD', 'LAS', 'LBE', 'LAW', 'LWB', 'LWS', 'LEX', 'LBL', 'LIH', 'LNK', 'LIT', 'LGB', 'GGG', 'LAX', 'SDF', 'LBB', 'LYH', 'MCN', 'MSN', 'MMH', 'MHT', 'MHK', 'MTH', 'MQT', 'MVY', 'MAZ', 'MFR', 'MLB', 'MEM', 'MEI', 'MIA', 'MAF', 'MKE', 'MSP', 'MIB', 'MOT', 'MFE', 'MSO', 'CNY', 'BFM', 'MOB', 'MOD', 'MLI', 'MLU', 'MRY', 'MGM', 'MTJ', 'MWH', 'CWA', 'MKG', 'MYR', 'ACK', 'APF', 'BNA', 'EWN', 'HVN', 'MSY', 'JFK', 'LGA', 'EWR', 'SWF', 'PHF', 'IAG', 'OME', 'ORF', 'OTH', 'LBF', 'OAK', 'OGD', 'OGS', 'OKC', 'OMA', 'ONT', 'MCO', 'OWB', 'OXR', 'PAH', 'PPG', 'PSP', 'PMD', 'PFN', 'ECP', 'PSC', 'PLN', 'PNS', 'PIA', 'PSG', 'PHL', 'AZA', 'PHX', 'PIR', 'SOP', 'PIT', 'PBG', 'PIH', 'PSE', 'PWM', 'PDX', 'PSM', 'PRC', 'PVD', 'PVU', 'PUB', 'PGD', 'UIN', 'RDU', 'RCA', 'RAP', 'RDR', 'RDD', 'RNO', 'RHI', 'RIC', 'RIW', 'ROA', 'RST', 'ROC', 'RKS', 'RFD', 'ROW', 'ROP', 'SMF', 'MBS', 'SPN', 'SLE', 'SLN', 'SLC', 'SJT', 'SAT', 'SAN', 'SFO', 'SJC', 'SJU', 'SBP', 'SFB', 'SNA', 'SBA', 'SAF', 'SMX', 'STS', 'SRQ', 'CIU', 'SAV', 'BFF', 'AVP', 'BFI', 'SEA', 'SHR', 'SHV', 'SUX', 'FSD', 'SIT', 'SBN', 'SKA', 'GEG', 'SPI', 'SGF', 'UST', 'STC', 'SGU', 'STL', 'KSM', 'PIE', 'SCE', 'SHD', 'SWO', 'SCK', 'SUN', 'SYR', 'TLH', 'TPA', 'TEX', 'TXK', 'TKI', 'TOL', 'FOE', 'TVC', 'TTN', 'TUS', 'TUL', 'UTM', 'TUP', 'TWF', 'TYR', 'DUT', 'UCA', 'VLD', 'VPS', 'VEL', 'VCT', 'VIS', 'ACT', 'DCA', 'IAD', 'ALO', 'ART', 'ATY', 'ENV', 'PBI', 'WYS', 'HPN', 'SPS', 'ICT', 'ISN', 'XWA', 'ILG', 'ILM', 'ORH', 'WRG', 'YKM', 'YAK', 'YAP', 'YNG', 'YUM']\n",
      "['TZ', 'FL', 'AS', 'G4', 'AQ', 'HP', 'AA', 'MQ', 'DH', 'EV', 'OH (1)', 'CO', 'DL', '9E', 'MQ', 'EV', 'XE', 'EV', 'F9', 'HA', 'DH', 'B6', 'YV', 'NW', 'OH', '9E', 'YX', 'OO', 'WN', 'NK', 'US', 'UA', 'VX']\n",
      "['1', '2', '3', '4', '5', '6', '7', '8', '9', '10', '11', '12']\n",
      "['1987', '1988', '1989', '1990', '1991', '1992', '1993', '1994', '1995', '1996', '1997', '1998', '1999', '2000', '2001', '2002', '2003', '2004', '2005', '2006', '2007', '2008', '2009', '2010', '2011', '2012', '2013', '2014', '2015', '2016', '2017', '2018', '2019', '2020']\n"
     ]
    }
   ],
   "source": [
    "fp = webdriver.FirefoxProfile()\n",
    "fp.set_preference(\"browser.download.folderList\",2)\n",
    "fp.set_preference(\"browser.download.dir\", \"~/flights_data\")\n",
    "fp.set_preference(\"browser.download.manager.showWhenStarting\", False)\n",
    "\n",
    "fp.set_preference(\"browser.helperApps.neverAsk.saveToDisk\", \"text/plain,application/text\")\n",
    "\n",
    "driver = webdriver.Firefox(firefox_profile=fp)\n",
    "\n",
    "driver.get(departures_url)\n",
    "wait = WebDriverWait(driver, 5)\n",
    "element = wait.until(EC.element_to_be_clickable((By.XPATH, statistics_xpath)))\n",
    "\n",
    "statistics = driver.find_element_by_xpath(statistics_xpath)\n",
    "statistics.click()\n",
    "\n",
    "driver.find_element_by_name(\"chkAllDays\").click()\n",
    "\n",
    "origin_elem = driver.find_element_by_id(origin_id)\n",
    "all_origins = origin_elem.find_elements_by_tag_name(\"option\")\n",
    "print([option.get_attribute(\"value\") for option in all_origins])\n",
    "\n",
    "airline_elem = driver.find_element_by_id(airline_id)\n",
    "all_airlines = airline_elem.find_elements_by_tag_name(\"option\")\n",
    "print([option.get_attribute(\"value\") for option in all_airlines])\n",
    "\n",
    "month_elem = driver.find_element_by_xpath(month_xpath)\n",
    "months = month_elem.find_elements_by_tag_name(\"input\")\n",
    "print([option.get_attribute(\"value\") for option in months[1:]])\n",
    "\n",
    "year_elem = driver.find_element_by_xpath(year_xpath)\n",
    "years = year_elem.find_elements_by_tag_name(\"input\")\n",
    "print([option.get_attribute(\"value\") for option in years[1:]])"
   ]
  },
  {
   "cell_type": "code",
   "execution_count": 74,
   "metadata": {},
   "outputs": [],
   "source": [
    "def get_result(origin: str, airline: str, month_idx: int, year_idx: int): \n",
    "    try: \n",
    "        try: \n",
    "            select_origin = Select(driver.find_element_by_id(origin_id))\n",
    "            select_origin.select_by_value(origin)\n",
    "\n",
    "            select_airline = Select(driver.find_element_by_id(airline_id))\n",
    "            select_airline.select_by_value(airline)\n",
    "            \n",
    "            month_elem = driver.find_element_by_xpath(month_xpath)\n",
    "            months = month_elem.find_elements_by_tag_name(\"input\")\n",
    "            #driver.execute_script('arguments[0].scrollIntoView();', month_elem)\n",
    "            months[month_idx + 1].click()\n",
    "\n",
    "            year_elem = driver.find_element_by_xpath(year_xpath)\n",
    "            years = year_elem.find_elements_by_tag_name(\"input\")\n",
    "            #driver.execute_script('arguments[0].scrollIntoView();', year_elem)\n",
    "            years[year_idx + 1].click()\n",
    "\n",
    "            driver.find_element_by_name(\"btnSubmit\").click()\n",
    "            driver.find_element_by_xpath('//*[@id=\"DL_CSV\"]').click()\n",
    "            print(origin, \", \", airline, \", \", MONTHS[month_idx], \", \", YEARS[year_idx])\n",
    "        except (StaleElementReferenceException, ElementClickInterceptedException, NoSuchElementException, UnexpectedAlertPresentException) as e: \n",
    "            print(e)\n",
    "\n",
    "        month_elem = driver.find_element_by_xpath(month_xpath)\n",
    "        months = month_elem.find_elements_by_tag_name(\"input\")\n",
    "        #driver.execute_script('arguments[0].scrollIntoView();', month_elem)\n",
    "        months[month_idx + 1].click()\n",
    "\n",
    "        year_elem = driver.find_element_by_xpath(year_xpath)\n",
    "        years = year_elem.find_elements_by_tag_name(\"input\")\n",
    "        #driver.execute_script('arguments[0].scrollIntoView();', year_elem)\n",
    "        years[year_idx + 1].click()\n",
    "    except ElementClickInterceptedException as e: \n",
    "        print(e)"
   ]
  },
  {
   "cell_type": "code",
   "execution_count": 75,
   "metadata": {
    "scrolled": false
   },
   "outputs": [
    {
     "name": "stdout",
     "output_type": "stream",
     "text": [
      "PDX ,  UA ,  1 ,  2019\n",
      "PDX ,  UA ,  2 ,  2019\n",
      "PDX ,  UA ,  3 ,  2019\n",
      "PDX ,  UA ,  4 ,  2019\n",
      "PDX ,  UA ,  5 ,  2019\n",
      "PDX ,  UA ,  6 ,  2019\n",
      "PDX ,  UA ,  7 ,  2019\n",
      "PDX ,  UA ,  8 ,  2019\n",
      "PDX ,  UA ,  9 ,  2019\n",
      "PDX ,  UA ,  10 ,  2019\n",
      "PDX ,  UA ,  11 ,  2019\n",
      "PDX ,  UA ,  12 ,  2019\n",
      "PDX ,  AA ,  1 ,  2019\n",
      "PDX ,  AA ,  2 ,  2019\n",
      "PDX ,  AA ,  3 ,  2019\n",
      "PDX ,  AA ,  4 ,  2019\n",
      "PDX ,  AA ,  5 ,  2019\n",
      "PDX ,  AA ,  6 ,  2019\n",
      "PDX ,  AA ,  7 ,  2019\n",
      "PDX ,  AA ,  8 ,  2019\n",
      "PDX ,  AA ,  9 ,  2019\n",
      "PDX ,  AA ,  10 ,  2019\n",
      "PDX ,  AA ,  11 ,  2019\n",
      "PDX ,  AA ,  12 ,  2019\n",
      "PDX ,  WN ,  1 ,  2019\n",
      "PDX ,  WN ,  2 ,  2019\n",
      "PDX ,  WN ,  3 ,  2019\n",
      "PDX ,  WN ,  4 ,  2019\n",
      "PDX ,  WN ,  5 ,  2019\n",
      "PDX ,  WN ,  6 ,  2019\n",
      "PDX ,  WN ,  7 ,  2019\n",
      "PDX ,  WN ,  8 ,  2019\n",
      "PDX ,  WN ,  9 ,  2019\n",
      "PDX ,  WN ,  10 ,  2019\n",
      "PDX ,  WN ,  11 ,  2019\n",
      "PDX ,  WN ,  12 ,  2019\n",
      "PDX ,  DL ,  1 ,  2019\n",
      "PDX ,  DL ,  2 ,  2019\n",
      "PDX ,  DL ,  3 ,  2019\n",
      "PDX ,  DL ,  4 ,  2019\n",
      "PDX ,  DL ,  5 ,  2019\n",
      "PDX ,  DL ,  6 ,  2019\n",
      "PDX ,  DL ,  7 ,  2019\n",
      "PDX ,  DL ,  8 ,  2019\n",
      "PDX ,  DL ,  9 ,  2019\n",
      "PDX ,  DL ,  10 ,  2019\n",
      "PDX ,  DL ,  11 ,  2019\n",
      "PDX ,  DL ,  12 ,  2019\n",
      "PDX ,  AS ,  1 ,  2019\n",
      "PDX ,  AS ,  2 ,  2019\n",
      "PDX ,  AS ,  3 ,  2019\n",
      "PDX ,  AS ,  4 ,  2019\n",
      "PDX ,  AS ,  5 ,  2019\n",
      "PDX ,  AS ,  6 ,  2019\n",
      "Message: Element <input id=\"chkMonths_5\" name=\"chkMonths$5\" type=\"checkbox\"> is not clickable at point (521,46) because another element <div id=\"slogan-search-wrapper\"> obscures it\n",
      "\n",
      "Message: Element <input id=\"chkMonths_6\" name=\"chkMonths$6\" type=\"checkbox\"> is not clickable at point (216,69) because another element <img src=\"https://www.bts.dot.gov/sites/bts.dot.gov/themes/bts_standalone/images/BTSLogo_x2.png\"> obscures it\n",
      "\n",
      "Message: Element <input id=\"chkMonths_6\" name=\"chkMonths$6\" type=\"checkbox\"> is not clickable at point (216,69) because another element <img src=\"https://www.bts.dot.gov/sites/bts.dot.gov/themes/bts_standalone/images/BTSLogo_x2.png\"> obscures it\n",
      "\n",
      "Message: Element <input id=\"chkMonths_7\" name=\"chkMonths$7\" type=\"checkbox\"> is not clickable at point (275,69) because another element <img src=\"https://www.bts.dot.gov/sites/bts.dot.gov/themes/bts_standalone/images/BTSLogo_x2.png\"> obscures it\n",
      "\n",
      "Message: Element <input id=\"chkMonths_7\" name=\"chkMonths$7\" type=\"checkbox\"> is not clickable at point (275,69) because another element <img src=\"https://www.bts.dot.gov/sites/bts.dot.gov/themes/bts_standalone/images/BTSLogo_x2.png\"> obscures it\n",
      "\n",
      "Message: Element <input id=\"chkMonths_8\" name=\"chkMonths$8\" type=\"checkbox\"> is not clickable at point (337,69) because another element <img src=\"https://www.bts.dot.gov/sites/bts.dot.gov/themes/bts_standalone/images/BTSLogo_x2.png\"> obscures it\n",
      "\n"
     ]
    },
    {
     "ename": "StaleElementReferenceException",
     "evalue": "Message: The element reference of <input id=\"chkMonths_8\" name=\"chkMonths$8\" type=\"checkbox\"> is stale; either the element is no longer attached to the DOM, it is not in the current frame context, or the document has been refreshed\n",
     "output_type": "error",
     "traceback": [
      "\u001b[0;31m---------------------------------------------------------------------------\u001b[0m",
      "\u001b[0;31mStaleElementReferenceException\u001b[0m            Traceback (most recent call last)",
      "\u001b[0;32m<ipython-input-75-948e61638d38>\u001b[0m in \u001b[0;36m<module>\u001b[0;34m\u001b[0m\n\u001b[1;32m     16\u001b[0m         \u001b[0;32mfor\u001b[0m \u001b[0myear\u001b[0m \u001b[0;32min\u001b[0m \u001b[0myears\u001b[0m\u001b[0;34m:\u001b[0m\u001b[0;34m\u001b[0m\u001b[0m\n\u001b[1;32m     17\u001b[0m             \u001b[0;32mfor\u001b[0m \u001b[0mmonth\u001b[0m \u001b[0;32min\u001b[0m \u001b[0mmonths\u001b[0m\u001b[0;34m:\u001b[0m\u001b[0;34m\u001b[0m\u001b[0m\n\u001b[0;32m---> 18\u001b[0;31m                 \u001b[0mget_result\u001b[0m\u001b[0;34m(\u001b[0m\u001b[0morigin\u001b[0m\u001b[0;34m,\u001b[0m \u001b[0mairline\u001b[0m\u001b[0;34m,\u001b[0m \u001b[0mmonth\u001b[0m\u001b[0;34m,\u001b[0m \u001b[0myear\u001b[0m\u001b[0;34m)\u001b[0m\u001b[0;34m\u001b[0m\u001b[0m\n\u001b[0m\u001b[1;32m     19\u001b[0m     \u001b[0ml\u001b[0m \u001b[0;34m=\u001b[0m \u001b[0;34m[\u001b[0m\u001b[0;34m]\u001b[0m\u001b[0;34m\u001b[0m\u001b[0m\n\u001b[1;32m     20\u001b[0m     \u001b[0;32mfor\u001b[0m \u001b[0mfilename\u001b[0m \u001b[0;32min\u001b[0m \u001b[0mglob\u001b[0m\u001b[0;34m.\u001b[0m\u001b[0mglob\u001b[0m\u001b[0;34m(\u001b[0m\u001b[0;34m\"/home/chosk/flights_data/*.csv\"\u001b[0m\u001b[0;34m)\u001b[0m\u001b[0;34m:\u001b[0m\u001b[0;34m\u001b[0m\u001b[0m\n",
      "\u001b[0;32m<ipython-input-74-3252e93a7950>\u001b[0m in \u001b[0;36mget_result\u001b[0;34m(origin, airline, month_idx, year_idx)\u001b[0m\n\u001b[1;32m     27\u001b[0m         \u001b[0mmonths\u001b[0m \u001b[0;34m=\u001b[0m \u001b[0mmonth_elem\u001b[0m\u001b[0;34m.\u001b[0m\u001b[0mfind_elements_by_tag_name\u001b[0m\u001b[0;34m(\u001b[0m\u001b[0;34m\"input\"\u001b[0m\u001b[0;34m)\u001b[0m\u001b[0;34m\u001b[0m\u001b[0m\n\u001b[1;32m     28\u001b[0m         \u001b[0;31m#driver.execute_script('arguments[0].scrollIntoView();', month_elem)\u001b[0m\u001b[0;34m\u001b[0m\u001b[0;34m\u001b[0m\u001b[0m\n\u001b[0;32m---> 29\u001b[0;31m         \u001b[0mmonths\u001b[0m\u001b[0;34m[\u001b[0m\u001b[0mmonth_idx\u001b[0m \u001b[0;34m+\u001b[0m \u001b[0;36m1\u001b[0m\u001b[0;34m]\u001b[0m\u001b[0;34m.\u001b[0m\u001b[0mclick\u001b[0m\u001b[0;34m(\u001b[0m\u001b[0;34m)\u001b[0m\u001b[0;34m\u001b[0m\u001b[0m\n\u001b[0m\u001b[1;32m     30\u001b[0m \u001b[0;34m\u001b[0m\u001b[0m\n\u001b[1;32m     31\u001b[0m         \u001b[0myear_elem\u001b[0m \u001b[0;34m=\u001b[0m \u001b[0mdriver\u001b[0m\u001b[0;34m.\u001b[0m\u001b[0mfind_element_by_xpath\u001b[0m\u001b[0;34m(\u001b[0m\u001b[0myear_xpath\u001b[0m\u001b[0;34m)\u001b[0m\u001b[0;34m\u001b[0m\u001b[0m\n",
      "\u001b[0;32m~/miniconda3/envs/cs229/lib/python3.6/site-packages/selenium/webdriver/remote/webelement.py\u001b[0m in \u001b[0;36mclick\u001b[0;34m(self)\u001b[0m\n\u001b[1;32m     78\u001b[0m     \u001b[0;32mdef\u001b[0m \u001b[0mclick\u001b[0m\u001b[0;34m(\u001b[0m\u001b[0mself\u001b[0m\u001b[0;34m)\u001b[0m\u001b[0;34m:\u001b[0m\u001b[0;34m\u001b[0m\u001b[0m\n\u001b[1;32m     79\u001b[0m         \u001b[0;34m\"\"\"Clicks the element.\"\"\"\u001b[0m\u001b[0;34m\u001b[0m\u001b[0m\n\u001b[0;32m---> 80\u001b[0;31m         \u001b[0mself\u001b[0m\u001b[0;34m.\u001b[0m\u001b[0m_execute\u001b[0m\u001b[0;34m(\u001b[0m\u001b[0mCommand\u001b[0m\u001b[0;34m.\u001b[0m\u001b[0mCLICK_ELEMENT\u001b[0m\u001b[0;34m)\u001b[0m\u001b[0;34m\u001b[0m\u001b[0m\n\u001b[0m\u001b[1;32m     81\u001b[0m \u001b[0;34m\u001b[0m\u001b[0m\n\u001b[1;32m     82\u001b[0m     \u001b[0;32mdef\u001b[0m \u001b[0msubmit\u001b[0m\u001b[0;34m(\u001b[0m\u001b[0mself\u001b[0m\u001b[0;34m)\u001b[0m\u001b[0;34m:\u001b[0m\u001b[0;34m\u001b[0m\u001b[0m\n",
      "\u001b[0;32m~/miniconda3/envs/cs229/lib/python3.6/site-packages/selenium/webdriver/remote/webelement.py\u001b[0m in \u001b[0;36m_execute\u001b[0;34m(self, command, params)\u001b[0m\n\u001b[1;32m    631\u001b[0m             \u001b[0mparams\u001b[0m \u001b[0;34m=\u001b[0m \u001b[0;34m{\u001b[0m\u001b[0;34m}\u001b[0m\u001b[0;34m\u001b[0m\u001b[0m\n\u001b[1;32m    632\u001b[0m         \u001b[0mparams\u001b[0m\u001b[0;34m[\u001b[0m\u001b[0;34m'id'\u001b[0m\u001b[0;34m]\u001b[0m \u001b[0;34m=\u001b[0m \u001b[0mself\u001b[0m\u001b[0;34m.\u001b[0m\u001b[0m_id\u001b[0m\u001b[0;34m\u001b[0m\u001b[0m\n\u001b[0;32m--> 633\u001b[0;31m         \u001b[0;32mreturn\u001b[0m \u001b[0mself\u001b[0m\u001b[0;34m.\u001b[0m\u001b[0m_parent\u001b[0m\u001b[0;34m.\u001b[0m\u001b[0mexecute\u001b[0m\u001b[0;34m(\u001b[0m\u001b[0mcommand\u001b[0m\u001b[0;34m,\u001b[0m \u001b[0mparams\u001b[0m\u001b[0;34m)\u001b[0m\u001b[0;34m\u001b[0m\u001b[0m\n\u001b[0m\u001b[1;32m    634\u001b[0m \u001b[0;34m\u001b[0m\u001b[0m\n\u001b[1;32m    635\u001b[0m     \u001b[0;32mdef\u001b[0m \u001b[0mfind_element\u001b[0m\u001b[0;34m(\u001b[0m\u001b[0mself\u001b[0m\u001b[0;34m,\u001b[0m \u001b[0mby\u001b[0m\u001b[0;34m=\u001b[0m\u001b[0mBy\u001b[0m\u001b[0;34m.\u001b[0m\u001b[0mID\u001b[0m\u001b[0;34m,\u001b[0m \u001b[0mvalue\u001b[0m\u001b[0;34m=\u001b[0m\u001b[0;32mNone\u001b[0m\u001b[0;34m)\u001b[0m\u001b[0;34m:\u001b[0m\u001b[0;34m\u001b[0m\u001b[0m\n",
      "\u001b[0;32m~/miniconda3/envs/cs229/lib/python3.6/site-packages/selenium/webdriver/remote/webdriver.py\u001b[0m in \u001b[0;36mexecute\u001b[0;34m(self, driver_command, params)\u001b[0m\n\u001b[1;32m    319\u001b[0m         \u001b[0mresponse\u001b[0m \u001b[0;34m=\u001b[0m \u001b[0mself\u001b[0m\u001b[0;34m.\u001b[0m\u001b[0mcommand_executor\u001b[0m\u001b[0;34m.\u001b[0m\u001b[0mexecute\u001b[0m\u001b[0;34m(\u001b[0m\u001b[0mdriver_command\u001b[0m\u001b[0;34m,\u001b[0m \u001b[0mparams\u001b[0m\u001b[0;34m)\u001b[0m\u001b[0;34m\u001b[0m\u001b[0m\n\u001b[1;32m    320\u001b[0m         \u001b[0;32mif\u001b[0m \u001b[0mresponse\u001b[0m\u001b[0;34m:\u001b[0m\u001b[0;34m\u001b[0m\u001b[0m\n\u001b[0;32m--> 321\u001b[0;31m             \u001b[0mself\u001b[0m\u001b[0;34m.\u001b[0m\u001b[0merror_handler\u001b[0m\u001b[0;34m.\u001b[0m\u001b[0mcheck_response\u001b[0m\u001b[0;34m(\u001b[0m\u001b[0mresponse\u001b[0m\u001b[0;34m)\u001b[0m\u001b[0;34m\u001b[0m\u001b[0m\n\u001b[0m\u001b[1;32m    322\u001b[0m             response['value'] = self._unwrap_value(\n\u001b[1;32m    323\u001b[0m                 response.get('value', None))\n",
      "\u001b[0;32m~/miniconda3/envs/cs229/lib/python3.6/site-packages/selenium/webdriver/remote/errorhandler.py\u001b[0m in \u001b[0;36mcheck_response\u001b[0;34m(self, response)\u001b[0m\n\u001b[1;32m    240\u001b[0m                 \u001b[0malert_text\u001b[0m \u001b[0;34m=\u001b[0m \u001b[0mvalue\u001b[0m\u001b[0;34m[\u001b[0m\u001b[0;34m'alert'\u001b[0m\u001b[0;34m]\u001b[0m\u001b[0;34m.\u001b[0m\u001b[0mget\u001b[0m\u001b[0;34m(\u001b[0m\u001b[0;34m'text'\u001b[0m\u001b[0;34m)\u001b[0m\u001b[0;34m\u001b[0m\u001b[0m\n\u001b[1;32m    241\u001b[0m             \u001b[0;32mraise\u001b[0m \u001b[0mexception_class\u001b[0m\u001b[0;34m(\u001b[0m\u001b[0mmessage\u001b[0m\u001b[0;34m,\u001b[0m \u001b[0mscreen\u001b[0m\u001b[0;34m,\u001b[0m \u001b[0mstacktrace\u001b[0m\u001b[0;34m,\u001b[0m \u001b[0malert_text\u001b[0m\u001b[0;34m)\u001b[0m\u001b[0;34m\u001b[0m\u001b[0m\n\u001b[0;32m--> 242\u001b[0;31m         \u001b[0;32mraise\u001b[0m \u001b[0mexception_class\u001b[0m\u001b[0;34m(\u001b[0m\u001b[0mmessage\u001b[0m\u001b[0;34m,\u001b[0m \u001b[0mscreen\u001b[0m\u001b[0;34m,\u001b[0m \u001b[0mstacktrace\u001b[0m\u001b[0;34m)\u001b[0m\u001b[0;34m\u001b[0m\u001b[0m\n\u001b[0m\u001b[1;32m    243\u001b[0m \u001b[0;34m\u001b[0m\u001b[0m\n\u001b[1;32m    244\u001b[0m     \u001b[0;32mdef\u001b[0m \u001b[0m_value_or_default\u001b[0m\u001b[0;34m(\u001b[0m\u001b[0mself\u001b[0m\u001b[0;34m,\u001b[0m \u001b[0mobj\u001b[0m\u001b[0;34m,\u001b[0m \u001b[0mkey\u001b[0m\u001b[0;34m,\u001b[0m \u001b[0mdefault\u001b[0m\u001b[0;34m)\u001b[0m\u001b[0;34m:\u001b[0m\u001b[0;34m\u001b[0m\u001b[0m\n",
      "\u001b[0;31mStaleElementReferenceException\u001b[0m: Message: The element reference of <input id=\"chkMonths_8\" name=\"chkMonths$8\" type=\"checkbox\"> is stale; either the element is no longer attached to the DOM, it is not in the current frame context, or the document has been refreshed\n"
     ]
    }
   ],
   "source": [
    "# Thirty largest airports in the US\n",
    "origins = ['PDX', 'HNL'] # 'SFO', 'ATL', 'LAX', 'ORD', 'DFW', 'DEN', 'JFK', 'SEA', 'LAS', \n",
    "          # FLL', 'MCO', 'EWR', 'CLT', 'PHX', 'IAH', 'MIA', 'BOS', 'DTW', \n",
    "        # 'PHL', 'LGA', 'BWI', 'SLC', 'SAN', 'IAD', 'DCA', 'MDW', 'TPA', \n",
    "airlines = ['UA', 'AA', 'WN', 'DL', 'AS'] # Five largest airlines\n",
    "years = range(len(YEARS)-2, len(YEARS)-1)\n",
    "months = range(0, len(MONTHS))\n",
    "\n",
    "for origin in origins: \n",
    "    try: \n",
    "        shutil.rmtree(\"/home/chosk/flights_data\")\n",
    "    except: \n",
    "        print(\"Directory didn't exist\")\n",
    "    os.mkdir(\"/home/chosk/flights_data/\")\n",
    "    for airline in airlines: \n",
    "        for year in years: \n",
    "            for month in months: \n",
    "                get_result(origin, airline, month, year)\n",
    "    l = []\n",
    "    for filename in glob.glob(\"/home/chosk/flights_data/*.csv\"): \n",
    "        try:\n",
    "            record = pd.read_csv(filename, skiprows=7, skipfooter=2)\n",
    "            l.append(record)\n",
    "        except: \n",
    "            continue\n",
    "    l = [pd.read_csv(filename, skiprows=7, skipfooter=2) for filename in glob.glob(\"/home/chosk/flights_data/*.csv\")]\n",
    "    df = pd.concat(l, axis=0)\n",
    "    df['origin'] = origin\n",
    "    df.to_csv(f\"~/Documents/2020_fall/cs229/project/data_raw/flights/flights_{origin}_{YEARS[years[0]]}_{YEARS[years[-1]]}.csv\")\n",
    "    shutil.rmtree(\"/home/chosk/flights_data\")"
   ]
  },
  {
   "cell_type": "code",
   "execution_count": 30,
   "metadata": {},
   "outputs": [
    {
     "name": "stderr",
     "output_type": "stream",
     "text": [
      "/home/chosk/miniconda3/envs/cs229/lib/python3.6/site-packages/ipykernel_launcher.py:1: ParserWarning: Falling back to the 'python' engine because the 'c' engine does not support skipfooter; you can avoid this warning by specifying engine='python'.\n",
      "  \"\"\"Entry point for launching an IPython kernel.\n"
     ]
    }
   ],
   "source": [
    "l = [pd.read_csv(filename, skiprows=7, skipfooter=2) for filename in glob.glob(\"/home/chosk/flights_data/*.csv\")]\n",
    "df = pd.concat(l, axis=0)"
   ]
  },
  {
   "cell_type": "code",
   "execution_count": 39,
   "metadata": {},
   "outputs": [],
   "source": [
    "shutil.rmtree(\"/home/chosk/flights_data\")"
   ]
  },
  {
   "cell_type": "code",
   "execution_count": null,
   "metadata": {},
   "outputs": [],
   "source": []
  }
 ],
 "metadata": {
  "kernelspec": {
   "display_name": "Python 3",
   "language": "python",
   "name": "python3"
  },
  "language_info": {
   "codemirror_mode": {
    "name": "ipython",
    "version": 3
   },
   "file_extension": ".py",
   "mimetype": "text/x-python",
   "name": "python",
   "nbconvert_exporter": "python",
   "pygments_lexer": "ipython3",
   "version": "3.6.6"
  }
 },
 "nbformat": 4,
 "nbformat_minor": 4
}
