{
 "cells": [
  {
   "cell_type": "code",
   "execution_count": 1,
   "metadata": {},
   "outputs": [],
   "source": [
    "from numpy import loadtxt\n",
    "import tensorflow as tf\n",
    "from tensorflow import keras\n",
    "import pandas as pd\n",
    "from matplotlib import pyplot as plt\n",
    "import numpy as np\n",
    "\n",
    "from sklearn.linear_model import LinearRegression\n",
    "from sklearn.metrics import mean_absolute_error"
   ]
  },
  {
   "cell_type": "code",
   "execution_count": 2,
   "metadata": {},
   "outputs": [
    {
     "name": "stdout",
     "output_type": "stream",
     "text": [
      "(581328, 203)\n"
     ]
    },
    {
     "data": {
      "text/html": [
       "<div>\n",
       "<style scoped>\n",
       "    .dataframe tbody tr th:only-of-type {\n",
       "        vertical-align: middle;\n",
       "    }\n",
       "\n",
       "    .dataframe tbody tr th {\n",
       "        vertical-align: top;\n",
       "    }\n",
       "\n",
       "    .dataframe thead th {\n",
       "        text-align: right;\n",
       "    }\n",
       "</style>\n",
       "<table border=\"1\" class=\"dataframe\">\n",
       "  <thead>\n",
       "    <tr style=\"text-align: right;\">\n",
       "      <th></th>\n",
       "      <th>departure_delay</th>\n",
       "      <th>time_taxi_out</th>\n",
       "      <th>elapsed_time_scheduled</th>\n",
       "      <th>delay_carrier</th>\n",
       "      <th>delay_weather</th>\n",
       "      <th>delay_nas</th>\n",
       "      <th>delay_security</th>\n",
       "      <th>delay_late_aircraft</th>\n",
       "      <th>humidity</th>\n",
       "      <th>dew_point</th>\n",
       "      <th>...</th>\n",
       "      <th>wind_direction_NW</th>\n",
       "      <th>wind_direction_S</th>\n",
       "      <th>wind_direction_SE</th>\n",
       "      <th>wind_direction_SSE</th>\n",
       "      <th>wind_direction_SSW</th>\n",
       "      <th>wind_direction_SW</th>\n",
       "      <th>wind_direction_VAR</th>\n",
       "      <th>wind_direction_W</th>\n",
       "      <th>wind_direction_WNW</th>\n",
       "      <th>wind_direction_WSW</th>\n",
       "    </tr>\n",
       "  </thead>\n",
       "  <tbody>\n",
       "    <tr>\n",
       "      <th>50738</th>\n",
       "      <td>-4</td>\n",
       "      <td>16</td>\n",
       "      <td>61</td>\n",
       "      <td>0</td>\n",
       "      <td>0</td>\n",
       "      <td>0</td>\n",
       "      <td>0</td>\n",
       "      <td>0</td>\n",
       "      <td>79</td>\n",
       "      <td>69</td>\n",
       "      <td>...</td>\n",
       "      <td>0</td>\n",
       "      <td>0</td>\n",
       "      <td>0</td>\n",
       "      <td>1</td>\n",
       "      <td>0</td>\n",
       "      <td>0</td>\n",
       "      <td>0</td>\n",
       "      <td>0</td>\n",
       "      <td>0</td>\n",
       "      <td>0</td>\n",
       "    </tr>\n",
       "    <tr>\n",
       "      <th>195908</th>\n",
       "      <td>13</td>\n",
       "      <td>21</td>\n",
       "      <td>145</td>\n",
       "      <td>0</td>\n",
       "      <td>13</td>\n",
       "      <td>6</td>\n",
       "      <td>0</td>\n",
       "      <td>0</td>\n",
       "      <td>85</td>\n",
       "      <td>25</td>\n",
       "      <td>...</td>\n",
       "      <td>0</td>\n",
       "      <td>0</td>\n",
       "      <td>0</td>\n",
       "      <td>0</td>\n",
       "      <td>0</td>\n",
       "      <td>0</td>\n",
       "      <td>0</td>\n",
       "      <td>0</td>\n",
       "      <td>0</td>\n",
       "      <td>0</td>\n",
       "    </tr>\n",
       "    <tr>\n",
       "      <th>462546</th>\n",
       "      <td>43</td>\n",
       "      <td>14</td>\n",
       "      <td>102</td>\n",
       "      <td>0</td>\n",
       "      <td>0</td>\n",
       "      <td>0</td>\n",
       "      <td>0</td>\n",
       "      <td>22</td>\n",
       "      <td>57</td>\n",
       "      <td>57</td>\n",
       "      <td>...</td>\n",
       "      <td>0</td>\n",
       "      <td>0</td>\n",
       "      <td>0</td>\n",
       "      <td>0</td>\n",
       "      <td>0</td>\n",
       "      <td>0</td>\n",
       "      <td>0</td>\n",
       "      <td>0</td>\n",
       "      <td>1</td>\n",
       "      <td>0</td>\n",
       "    </tr>\n",
       "    <tr>\n",
       "      <th>49188</th>\n",
       "      <td>92</td>\n",
       "      <td>12</td>\n",
       "      <td>126</td>\n",
       "      <td>92</td>\n",
       "      <td>0</td>\n",
       "      <td>7</td>\n",
       "      <td>0</td>\n",
       "      <td>0</td>\n",
       "      <td>85</td>\n",
       "      <td>75</td>\n",
       "      <td>...</td>\n",
       "      <td>0</td>\n",
       "      <td>0</td>\n",
       "      <td>0</td>\n",
       "      <td>0</td>\n",
       "      <td>0</td>\n",
       "      <td>1</td>\n",
       "      <td>0</td>\n",
       "      <td>0</td>\n",
       "      <td>0</td>\n",
       "      <td>0</td>\n",
       "    </tr>\n",
       "    <tr>\n",
       "      <th>318575</th>\n",
       "      <td>-10</td>\n",
       "      <td>13</td>\n",
       "      <td>213</td>\n",
       "      <td>0</td>\n",
       "      <td>0</td>\n",
       "      <td>0</td>\n",
       "      <td>0</td>\n",
       "      <td>0</td>\n",
       "      <td>14</td>\n",
       "      <td>27</td>\n",
       "      <td>...</td>\n",
       "      <td>0</td>\n",
       "      <td>0</td>\n",
       "      <td>0</td>\n",
       "      <td>0</td>\n",
       "      <td>0</td>\n",
       "      <td>0</td>\n",
       "      <td>0</td>\n",
       "      <td>0</td>\n",
       "      <td>0</td>\n",
       "      <td>0</td>\n",
       "    </tr>\n",
       "    <tr>\n",
       "      <th>...</th>\n",
       "      <td>...</td>\n",
       "      <td>...</td>\n",
       "      <td>...</td>\n",
       "      <td>...</td>\n",
       "      <td>...</td>\n",
       "      <td>...</td>\n",
       "      <td>...</td>\n",
       "      <td>...</td>\n",
       "      <td>...</td>\n",
       "      <td>...</td>\n",
       "      <td>...</td>\n",
       "      <td>...</td>\n",
       "      <td>...</td>\n",
       "      <td>...</td>\n",
       "      <td>...</td>\n",
       "      <td>...</td>\n",
       "      <td>...</td>\n",
       "      <td>...</td>\n",
       "      <td>...</td>\n",
       "      <td>...</td>\n",
       "      <td>...</td>\n",
       "    </tr>\n",
       "    <tr>\n",
       "      <th>364474</th>\n",
       "      <td>1</td>\n",
       "      <td>12</td>\n",
       "      <td>283</td>\n",
       "      <td>0</td>\n",
       "      <td>0</td>\n",
       "      <td>0</td>\n",
       "      <td>0</td>\n",
       "      <td>0</td>\n",
       "      <td>39</td>\n",
       "      <td>27</td>\n",
       "      <td>...</td>\n",
       "      <td>0</td>\n",
       "      <td>0</td>\n",
       "      <td>0</td>\n",
       "      <td>0</td>\n",
       "      <td>0</td>\n",
       "      <td>0</td>\n",
       "      <td>0</td>\n",
       "      <td>1</td>\n",
       "      <td>0</td>\n",
       "      <td>0</td>\n",
       "    </tr>\n",
       "    <tr>\n",
       "      <th>88432</th>\n",
       "      <td>-4</td>\n",
       "      <td>19</td>\n",
       "      <td>151</td>\n",
       "      <td>0</td>\n",
       "      <td>0</td>\n",
       "      <td>0</td>\n",
       "      <td>0</td>\n",
       "      <td>0</td>\n",
       "      <td>73</td>\n",
       "      <td>63</td>\n",
       "      <td>...</td>\n",
       "      <td>0</td>\n",
       "      <td>0</td>\n",
       "      <td>0</td>\n",
       "      <td>0</td>\n",
       "      <td>0</td>\n",
       "      <td>0</td>\n",
       "      <td>0</td>\n",
       "      <td>0</td>\n",
       "      <td>0</td>\n",
       "      <td>0</td>\n",
       "    </tr>\n",
       "    <tr>\n",
       "      <th>483395</th>\n",
       "      <td>43</td>\n",
       "      <td>16</td>\n",
       "      <td>100</td>\n",
       "      <td>0</td>\n",
       "      <td>0</td>\n",
       "      <td>10</td>\n",
       "      <td>0</td>\n",
       "      <td>20</td>\n",
       "      <td>70</td>\n",
       "      <td>51</td>\n",
       "      <td>...</td>\n",
       "      <td>1</td>\n",
       "      <td>0</td>\n",
       "      <td>0</td>\n",
       "      <td>0</td>\n",
       "      <td>0</td>\n",
       "      <td>0</td>\n",
       "      <td>0</td>\n",
       "      <td>0</td>\n",
       "      <td>0</td>\n",
       "      <td>0</td>\n",
       "    </tr>\n",
       "    <tr>\n",
       "      <th>207499</th>\n",
       "      <td>-6</td>\n",
       "      <td>22</td>\n",
       "      <td>235</td>\n",
       "      <td>0</td>\n",
       "      <td>0</td>\n",
       "      <td>0</td>\n",
       "      <td>0</td>\n",
       "      <td>0</td>\n",
       "      <td>46</td>\n",
       "      <td>54</td>\n",
       "      <td>...</td>\n",
       "      <td>1</td>\n",
       "      <td>0</td>\n",
       "      <td>0</td>\n",
       "      <td>0</td>\n",
       "      <td>0</td>\n",
       "      <td>0</td>\n",
       "      <td>0</td>\n",
       "      <td>0</td>\n",
       "      <td>0</td>\n",
       "      <td>0</td>\n",
       "    </tr>\n",
       "    <tr>\n",
       "      <th>306795</th>\n",
       "      <td>-3</td>\n",
       "      <td>10</td>\n",
       "      <td>70</td>\n",
       "      <td>0</td>\n",
       "      <td>0</td>\n",
       "      <td>0</td>\n",
       "      <td>0</td>\n",
       "      <td>0</td>\n",
       "      <td>51</td>\n",
       "      <td>48</td>\n",
       "      <td>...</td>\n",
       "      <td>0</td>\n",
       "      <td>0</td>\n",
       "      <td>0</td>\n",
       "      <td>1</td>\n",
       "      <td>0</td>\n",
       "      <td>0</td>\n",
       "      <td>0</td>\n",
       "      <td>0</td>\n",
       "      <td>0</td>\n",
       "      <td>0</td>\n",
       "    </tr>\n",
       "  </tbody>\n",
       "</table>\n",
       "<p>581328 rows × 203 columns</p>\n",
       "</div>"
      ],
      "text/plain": [
       "        departure_delay  time_taxi_out  elapsed_time_scheduled  delay_carrier  \\\n",
       "50738                -4             16                      61              0   \n",
       "195908               13             21                     145              0   \n",
       "462546               43             14                     102              0   \n",
       "49188                92             12                     126             92   \n",
       "318575              -10             13                     213              0   \n",
       "...                 ...            ...                     ...            ...   \n",
       "364474                1             12                     283              0   \n",
       "88432                -4             19                     151              0   \n",
       "483395               43             16                     100              0   \n",
       "207499               -6             22                     235              0   \n",
       "306795               -3             10                      70              0   \n",
       "\n",
       "        delay_weather  delay_nas  delay_security  delay_late_aircraft  \\\n",
       "50738               0          0               0                    0   \n",
       "195908             13          6               0                    0   \n",
       "462546              0          0               0                   22   \n",
       "49188               0          7               0                    0   \n",
       "318575              0          0               0                    0   \n",
       "...               ...        ...             ...                  ...   \n",
       "364474              0          0               0                    0   \n",
       "88432               0          0               0                    0   \n",
       "483395              0         10               0                   20   \n",
       "207499              0          0               0                    0   \n",
       "306795              0          0               0                    0   \n",
       "\n",
       "        humidity  dew_point  ...  wind_direction_NW  wind_direction_S  \\\n",
       "50738         79         69  ...                  0                 0   \n",
       "195908        85         25  ...                  0                 0   \n",
       "462546        57         57  ...                  0                 0   \n",
       "49188         85         75  ...                  0                 0   \n",
       "318575        14         27  ...                  0                 0   \n",
       "...          ...        ...  ...                ...               ...   \n",
       "364474        39         27  ...                  0                 0   \n",
       "88432         73         63  ...                  0                 0   \n",
       "483395        70         51  ...                  1                 0   \n",
       "207499        46         54  ...                  1                 0   \n",
       "306795        51         48  ...                  0                 0   \n",
       "\n",
       "        wind_direction_SE  wind_direction_SSE  wind_direction_SSW  \\\n",
       "50738                   0                   1                   0   \n",
       "195908                  0                   0                   0   \n",
       "462546                  0                   0                   0   \n",
       "49188                   0                   0                   0   \n",
       "318575                  0                   0                   0   \n",
       "...                   ...                 ...                 ...   \n",
       "364474                  0                   0                   0   \n",
       "88432                   0                   0                   0   \n",
       "483395                  0                   0                   0   \n",
       "207499                  0                   0                   0   \n",
       "306795                  0                   1                   0   \n",
       "\n",
       "        wind_direction_SW  wind_direction_VAR  wind_direction_W  \\\n",
       "50738                   0                   0                 0   \n",
       "195908                  0                   0                 0   \n",
       "462546                  0                   0                 0   \n",
       "49188                   1                   0                 0   \n",
       "318575                  0                   0                 0   \n",
       "...                   ...                 ...               ...   \n",
       "364474                  0                   0                 1   \n",
       "88432                   0                   0                 0   \n",
       "483395                  0                   0                 0   \n",
       "207499                  0                   0                 0   \n",
       "306795                  0                   0                 0   \n",
       "\n",
       "        wind_direction_WNW  wind_direction_WSW  \n",
       "50738                    0                   0  \n",
       "195908                   0                   0  \n",
       "462546                   1                   0  \n",
       "49188                    0                   0  \n",
       "318575                   0                   0  \n",
       "...                    ...                 ...  \n",
       "364474                   0                   0  \n",
       "88432                    0                   0  \n",
       "483395                   0                   0  \n",
       "207499                   0                   0  \n",
       "306795                   0                   0  \n",
       "\n",
       "[581328 rows x 203 columns]"
      ]
     },
     "execution_count": 2,
     "metadata": {},
     "output_type": "execute_result"
    }
   ],
   "source": [
    "# Read in and shuffle dataset\n",
    "dataset = pd.read_csv(\"../data_raw/full_data_one_hot.csv\").sample(frac=1)\n",
    "\n",
    "print(dataset.shape)\n",
    "\n",
    "dataset"
   ]
  },
  {
   "cell_type": "code",
   "execution_count": 3,
   "metadata": {},
   "outputs": [
    {
     "data": {
      "text/plain": [
       "array([16, 21, 14, ..., 15, 15, 13])"
      ]
     },
     "execution_count": 3,
     "metadata": {},
     "output_type": "execute_result"
    }
   ],
   "source": [
    "# Get training labels\n",
    "Y = dataset.head(400000)['time_taxi_out'].values\n",
    "Y"
   ]
  },
  {
   "cell_type": "code",
   "execution_count": 4,
   "metadata": {},
   "outputs": [
    {
     "data": {
      "text/plain": [
       "(400000, 202)"
      ]
     },
     "execution_count": 4,
     "metadata": {},
     "output_type": "execute_result"
    }
   ],
   "source": [
    "# Get training features\n",
    "X = dataset.head(400000).drop('time_taxi_out', axis=1).values\n",
    "X.shape"
   ]
  },
  {
   "cell_type": "markdown",
   "metadata": {},
   "source": [
    "# Deep Learning"
   ]
  },
  {
   "cell_type": "code",
   "execution_count": 5,
   "metadata": {},
   "outputs": [
    {
     "name": "stdout",
     "output_type": "stream",
     "text": [
      "Epoch 1/10\n",
      "1600/1600 [==============================] - 2s 1ms/step - loss: 211.6716 - mean_absolute_error: 9.7036 - val_loss: 158.6571 - val_mean_absolute_error: 8.3450\n",
      "Epoch 2/10\n",
      "1600/1600 [==============================] - 2s 2ms/step - loss: 103.7929 - mean_absolute_error: 6.5229 - val_loss: 81.7991 - val_mean_absolute_error: 6.0273\n",
      "Epoch 3/10\n",
      "1600/1600 [==============================] - 2s 2ms/step - loss: 76.1877 - mean_absolute_error: 5.9604 - val_loss: 73.2011 - val_mean_absolute_error: 5.8295\n",
      "Epoch 4/10\n",
      "1600/1600 [==============================] - 2s 1ms/step - loss: 71.2044 - mean_absolute_error: 5.8603 - val_loss: 70.4624 - val_mean_absolute_error: 5.7370\n",
      "Epoch 5/10\n",
      "1600/1600 [==============================] - 2s 1ms/step - loss: 69.2120 - mean_absolute_error: 5.8076 - val_loss: 68.1306 - val_mean_absolute_error: 5.7780\n",
      "Epoch 6/10\n",
      "1600/1600 [==============================] - 2s 1ms/step - loss: 68.3088 - mean_absolute_error: 5.7848 - val_loss: 68.6899 - val_mean_absolute_error: 5.7697\n",
      "Epoch 7/10\n",
      "1600/1600 [==============================] - 2s 1ms/step - loss: 67.2939 - mean_absolute_error: 5.7516 - val_loss: 67.6030 - val_mean_absolute_error: 5.8512\n",
      "Epoch 8/10\n",
      "1600/1600 [==============================] - 2s 1ms/step - loss: 66.8326 - mean_absolute_error: 5.7382 - val_loss: 67.4560 - val_mean_absolute_error: 5.8358\n",
      "Epoch 9/10\n",
      "1600/1600 [==============================] - 2s 1ms/step - loss: 66.4438 - mean_absolute_error: 5.7329 - val_loss: 66.8489 - val_mean_absolute_error: 5.6814\n",
      "Epoch 10/10\n",
      "1600/1600 [==============================] - 2s 1ms/step - loss: 66.1275 - mean_absolute_error: 5.7182 - val_loss: 67.4736 - val_mean_absolute_error: 5.6583\n"
     ]
    }
   ],
   "source": [
    "# Create and fit model\n",
    "model = keras.Sequential()\n",
    "\n",
    "model.add(keras.layers.Dense(100, input_dim = X.shape[1], activation = 'sigmoid'))\n",
    "model.add(keras.layers.Dense(30, activation = 'sigmoid'))\n",
    "model.add(keras.layers.Dense(10, activation = 'relu'))\n",
    "model.add(keras.layers.Dense(1, activation = 'relu'))\n",
    "\n",
    "model.compile(loss = 'mse', optimizer = 'adam', metrics = [keras.metrics.MeanAbsoluteError()])\n",
    "\n",
    "history = model.fit(X, Y, validation_split = 0.2, epochs = 10, batch_size = 200)"
   ]
  },
  {
   "cell_type": "code",
   "execution_count": 6,
   "metadata": {
    "scrolled": true
   },
   "outputs": [
    {
     "data": {
      "image/png": "[encoded data removed]",
      "text/plain": [
       "<Figure size 432x288 with 1 Axes>"
      ]
     },
     "metadata": {
      "needs_background": "light"
     },
     "output_type": "display_data"
    }
   ],
   "source": [
    "# Plot training/validation loss\n",
    "plt.plot(history.history['mean_absolute_error'])\n",
    "plt.plot(history.history['val_mean_absolute_error'])\n",
    "plt.legend(['train', 'val'], loc = 'upper right')\n",
    "plt.xlabel(\"epoch\")\n",
    "plt.ylabel(\"MAE\")\n",
    "plt.show()"
   ]
  },
  {
   "cell_type": "code",
   "execution_count": 5,
   "metadata": {},
   "outputs": [],
   "source": [
    "# Predict values for unseen data\n",
    "\n",
    "x_predict = dataset[400000:500000].drop('time_taxi_out', axis=1).values\n",
    "y_true = dataset[400000:500000]['time_taxi_out'].values"
   ]
  },
  {
   "cell_type": "code",
   "execution_count": 8,
   "metadata": {},
   "outputs": [
    {
     "name": "stdout",
     "output_type": "stream",
     "text": [
      "MAE training:  5.6347700267148015\n",
      "MAE test:  5.645663092269897\n"
     ]
    }
   ],
   "source": [
    "y_predicted = model.predict(x_predict)\n",
    "print(\"MAE training: \", mean_absolute_error(Y, model.predict(X)))\n",
    "print(\"MAE test: \", mean_absolute_error(y_true, y_predicted))"
   ]
  },
  {
   "cell_type": "code",
   "execution_count": 9,
   "metadata": {},
   "outputs": [
    {
     "data": {
      "image/png": "[encoded data removed]",
      "text/plain": [
       "<Figure size 432x288 with 1 Axes>"
      ]
     },
     "metadata": {
      "needs_background": "light"
     },
     "output_type": "display_data"
    }
   ],
   "source": [
    "plt.scatter(y_true, y_predicted, s = 1)\n",
    "plt.xlabel(\"y_true\")\n",
    "plt.ylabel(\"y_predicted\")\n",
    "plt.show()"
   ]
  },
  {
   "cell_type": "markdown",
   "metadata": {},
   "source": [
    "# Linear Regression"
   ]
  },
  {
   "cell_type": "code",
   "execution_count": 6,
   "metadata": {},
   "outputs": [],
   "source": [
    "from sklearn.linear_model import LinearRegression\n",
    "from sklearn.metrics import mean_absolute_error"
   ]
  },
  {
   "cell_type": "code",
   "execution_count": 7,
   "metadata": {},
   "outputs": [],
   "source": [
    "model = LinearRegression().fit(X, Y)"
   ]
  },
  {
   "cell_type": "code",
   "execution_count": 8,
   "metadata": {},
   "outputs": [
    {
     "name": "stdout",
     "output_type": "stream",
     "text": [
      "r_sq training:  0.4238081919600284\n",
      "r_sq test:  0.4140695987558387\n"
     ]
    }
   ],
   "source": [
    "print(\"r_sq training: \", model.score(X, Y))\n",
    "print(\"r_sq test: \", model.score(x_predict, y_true))"
   ]
  },
  {
   "cell_type": "code",
   "execution_count": 9,
   "metadata": {},
   "outputs": [
    {
     "name": "stdout",
     "output_type": "stream",
     "text": [
      "MAE training:  6.6418192713803546\n",
      "MAE test:  6.653655706379016\n"
     ]
    }
   ],
   "source": [
    "y_predicted = model.predict(x_predict)\n",
    "test_mae = mean_absolute_error(y_true, y_predicted)\n",
    "print(\"MAE training: \", mean_absolute_error(Y, model.predict(X)))\n",
    "print(\"MAE test: \", test_mae)"
   ]
  },
  {
   "cell_type": "markdown",
   "metadata": {},
   "source": [
    "# Polynomial Regression"
   ]
  },
  {
   "cell_type": "code",
   "execution_count": 6,
   "metadata": {},
   "outputs": [],
   "source": [
    "from sklearn.preprocessing import PolynomialFeatures"
   ]
  },
  {
   "cell_type": "code",
   "execution_count": 7,
   "metadata": {},
   "outputs": [],
   "source": [
    "x_numeric = X[:, 0:13]\n",
    "x_one_hot = X[:, 13:]\n",
    "transformer = PolynomialFeatures(degree = 2, include_bias = True)\n",
    "transformer.fit(x_numeric)\n",
    "x_numeric_ = transformer.transform(x_numeric)\n",
    "X_ = np.concatenate((x_numeric_, x_one_hot), axis = 1)"
   ]
  },
  {
   "cell_type": "code",
   "execution_count": 8,
   "metadata": {},
   "outputs": [],
   "source": [
    "model = LinearRegression().fit(X_, Y)"
   ]
  },
  {
   "cell_type": "code",
   "execution_count": 9,
   "metadata": {},
   "outputs": [
    {
     "name": "stdout",
     "output_type": "stream",
     "text": [
      "r_sq training:  0.4962595935412766\n",
      "r_sq test:  0.4982515373554338\n"
     ]
    }
   ],
   "source": [
    "x_predict_numeric_ = transformer.transform(x_predict[:, 0:13])\n",
    "x_predict_ = np.concatenate((x_predict_numeric_, x_predict[:, 13:]), axis = 1)\n",
    "print(\"r_sq training: \", model.score(X_, Y))\n",
    "print(\"r_sq test: \", model.score(x_predict_, y_true))"
   ]
  },
  {
   "cell_type": "code",
   "execution_count": 10,
   "metadata": {},
   "outputs": [
    {
     "name": "stdout",
     "output_type": "stream",
     "text": [
      "MAE training:  6.276235768111072\n",
      "MAE test:  6.2347969036412145\n"
     ]
    }
   ],
   "source": [
    "y_predicted = model.predict(x_predict_)\n",
    "test_mae = mean_absolute_error(y_true, y_predicted)\n",
    "print(\"MAE training: \", mean_absolute_error(Y, model.predict(X_)))\n",
    "print(\"MAE test: \", test_mae)"
   ]
  },
  {
   "cell_type": "code",
   "execution_count": null,
   "metadata": {},
   "outputs": [],
   "source": []
  }
 ],
 "metadata": {
  "kernelspec": {
   "display_name": "Python 3",
   "language": "python",
   "name": "python3"
  },
  "language_info": {
   "codemirror_mode": {
    "name": "ipython",
    "version": 3
   },
   "file_extension": ".py",
   "mimetype": "text/x-python",
   "name": "python",
   "nbconvert_exporter": "python",
   "pygments_lexer": "ipython3",
   "version": "3.6.6"
  }
 },
 "nbformat": 4,
 "nbformat_minor": 4
}
